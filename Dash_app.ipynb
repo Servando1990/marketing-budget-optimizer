{
 "cells": [
  {
   "cell_type": "code",
   "execution_count": 23,
   "metadata": {},
   "outputs": [],
   "source": [
    "import pandas as pd\n",
    "from pathlib import Path\n",
    "import numpy as np\n",
    "import matplotlib.pyplot as plt\n",
    "import seaborn as sns\n",
    "import dash\n",
    "from dash import dcc\n",
    "from dash import html\n",
    "\n",
    "import statsmodels.api as sm\n",
    "\n",
    "data_folder = Path(\"data\").resolve()"
   ]
  },
  {
   "cell_type": "code",
   "execution_count": 24,
   "metadata": {},
   "outputs": [],
   "source": [
    "# Read in the data\n",
    "df = pd.read_csv(data_folder / \"marketing_data.csv\", sep=\";\")"
   ]
  },
  {
   "cell_type": "code",
   "execution_count": 25,
   "metadata": {},
   "outputs": [],
   "source": [
    "df.date = pd.to_datetime(df.date, format=\"%Y-%m-%d\")\n",
    "df['cohort'] = df['site'] + '_' + df['country']\n",
    "\n",
    "df = df.groupby(['cohort', 'date']).sum().reset_index()"
   ]
  },
  {
   "cell_type": "code",
   "execution_count": 26,
   "metadata": {},
   "outputs": [],
   "source": [
    "\n",
    "df['conversion_per_session'] = df['conversions'] / df['sessions']\n",
    "df['price_per_impression'] = df['total_spend'] / df['impressions']"
   ]
  },
  {
   "cell_type": "code",
   "execution_count": 27,
   "metadata": {},
   "outputs": [
    {
     "name": "stderr",
     "output_type": "stream",
     "text": [
      "/var/folders/qd/2qwtnqg57r915dp6p3dq762c0000gn/T/ipykernel_6095/37315400.py:1: FutureWarning:\n",
      "\n",
      "Indexing with multiple keys (implicitly converted to a tuple of keys) will be deprecated, use a list instead.\n",
      "\n"
     ]
    }
   ],
   "source": [
    "df = df.groupby(['cohort', pd.Grouper(key='date', freq='D')])['total_spend', 'impressions', 'sessions', 'conversions', 'price_per_impression', 'conversion_per_session'].sum()"
   ]
  },
  {
   "cell_type": "code",
   "execution_count": 28,
   "metadata": {},
   "outputs": [],
   "source": [
    "# Define a dash app\n",
    "app = dash.Dash(__name__)\n",
    "\n",
    "# Define the layout\n",
    "\n",
    "app.layout = html.Div(children=[\n",
    "    dcc.Graph(id='graph'),\n",
    "])\n"
   ]
  },
  {
   "cell_type": "code",
   "execution_count": 29,
   "metadata": {},
   "outputs": [],
   "source": [
    "import plotly.graph_objs as go\n",
    "\n",
    "@app.callback(\n",
    "    dash.dependencies.Output('graph', 'figure'),\n",
    "    [dash.dependencies.Input('cohort-dropdown', 'value'),\n",
    "     dash.dependencies.Input('feature-dropdown', 'value')])\n",
    "def update_graph(cohort, feature):\n",
    "    df_cohort = df.loc[cohort]\n",
    "    series = df_cohort[feature]\n",
    "    result = sm.tsa.seasonal_decompose(series, model='additive', period=30)\n",
    "\n",
    "    fig = go.Figure()\n",
    "\n",
    "    fig.add_trace(go.Scatter(\n",
    "        x=result.observed.index,\n",
    "        y=result.observed.values,\n",
    "        mode='lines',\n",
    "        name='Observed'\n",
    "    ))\n",
    "\n",
    "    fig.add_trace(go.Scatter(\n",
    "        x=result.trend.index,\n",
    "        y=result.trend.values,\n",
    "        mode='lines',\n",
    "        name='Trend'\n",
    "    ))\n",
    "\n",
    "    fig.add_trace(go.Scatter(\n",
    "        x=result.seasonal.index,\n",
    "        y=result.seasonal.values,\n",
    "        mode='lines',\n",
    "        name='Seasonal'\n",
    "    ))\n",
    "\n",
    "    fig.update_layout(\n",
    "        title=f'{feature} {cohort} Seasonal Decomposition',\n",
    "        xaxis_title='Date',\n",
    "        yaxis_title='Value'\n",
    "    )\n",
    "\n",
    "    return fig\n"
   ]
  },
  {
   "cell_type": "code",
   "execution_count": 30,
   "metadata": {},
   "outputs": [
    {
     "name": "stdout",
     "output_type": "stream",
     "text": [
      "Dash is running on http://127.0.0.1:8051/\n",
      "\n",
      " * Serving Flask app '__main__'\n",
      " * Debug mode: off\n"
     ]
    }
   ],
   "source": [
    "\n",
    "\n",
    "# Define the dropdown menus\n",
    "cohort_dropdown = dcc.Dropdown(\n",
    "    id='cohort-dropdown',\n",
    "    options=[{'label': cohort, 'value': cohort} for cohort in df.index.levels[0]],\n",
    "    value=df.index.levels[0][0]\n",
    ")\n",
    "\n",
    "feature_dropdown = dcc.Dropdown(\n",
    "    id='feature-dropdown',\n",
    "    options=[{'label': feature, 'value': feature} for feature in df.columns],\n",
    "    value=df.columns[0]\n",
    ")\n",
    "\n",
    "# Define the layout of the app\n",
    "app.layout = html.Div(children=[\n",
    "    html.H1(children='Seasonal Decomposition Dashboard'),\n",
    "    html.Div(children='Select a cohort and a feature to see the seasonal decomposition.'),\n",
    "    html.Div(children=[\n",
    "        html.Label('Cohort'),\n",
    "        cohort_dropdown\n",
    "    ]),\n",
    "    html.Div(children=[\n",
    "        html.Label('Feature'),\n",
    "        feature_dropdown\n",
    "    ]),\n",
    "    dcc.Graph(id='graph')\n",
    "])\n",
    "\n",
    "# Run the app\n",
    "if __name__ == '__main__':\n",
    "    app.run_server(port=8051)\n"
   ]
  },
  {
   "cell_type": "code",
   "execution_count": 15,
   "metadata": {},
   "outputs": [
    {
     "name": "stdout",
     "output_type": "stream",
     "text": [
      "Dash is running on http://127.0.0.1:8051/\n",
      "\n",
      " * Serving Flask app '__main__'\n",
      " * Debug mode: off\n"
     ]
    }
   ],
   "source": [
    "\n",
    "\n",
    "from dash.dependencies import Input, Output\n",
    "cohort_options = [{'label': c, 'value': c} for c in df.cohort.unique()]\n",
    "feature_options = [{'label': f, 'value': f} for f in df.drop(columns=['cohort', 'date']).columns]\n",
    "\n",
    "\n",
    "# define app layout\n",
    "app = dash.Dash(__name__)\n",
    "app.layout = html.Div([\n",
    "    html.H1(\"Dashboard\"),\n",
    "    html.Div([\n",
    "        html.Label('Select Cohort:'),\n",
    "        dcc.Dropdown(\n",
    "            id='cohort-dropdown',\n",
    "            options=cohort_options,\n",
    "            value=df.cohort.unique()[0]\n",
    "        )\n",
    "    ]),\n",
    "    html.Div([\n",
    "        html.Label('Select Feature:'),\n",
    "        dcc.Dropdown(\n",
    "            id='feature-dropdown',\n",
    "            options=feature_options,\n",
    "            value='total_spend'\n",
    "        )\n",
    "    ]),\n",
    "    html.Div([\n",
    "        dcc.Graph(id='graph1'),\n",
    "        dcc.Graph(id='graph2'),\n",
    "        dcc.Graph(id='graph3')\n",
    "    ])\n",
    "])\n",
    "\n",
    "\n",
    "# define callbacks for updating graphs\n",
    "@app.callback(\n",
    "    Output('graph1', 'figure'),\n",
    "    [Input('cohort-dropdown', 'value'),\n",
    "     Input('feature-dropdown', 'value')])\n",
    "def update_graph1(cohort, feature):\n",
    "    df_cohort = df.loc[df.cohort == cohort]\n",
    "    df_monthly = df_cohort.groupby(pd.Grouper(key='date', freq='M')).total_spend.sum().reset_index()\n",
    "    fig = px.bar(\n",
    "        df_monthly,\n",
    "        x='date',\n",
    "        y='total_spend',\n",
    "        color='cohort',\n",
    "        barmode='group',\n",
    "        title='Total Spend per Month for each Cohort'\n",
    "    )\n",
    "    return fig\n",
    "\n",
    "\n",
    "@app.callback(\n",
    "    Output('graph2', 'figure'),\n",
    "    [Input('cohort-dropdown', 'value')])\n",
    "def update_graph2(cohort):\n",
    "    df_cohort = df.loc[df.cohort == cohort]\n",
    "    fig = px.line(\n",
    "        df_cohort,\n",
    "        x='date',\n",
    "        y=['conversion_per_session', 'price_per_impression'],\n",
    "        color='cohort',\n",
    "        title='Conversion per session vs Price per impression for  each Cohort'\n",
    "    )\n",
    "    return fig\n",
    "\n",
    "\n",
    "@app.callback(\n",
    "    Output('graph3', 'figure'),\n",
    "    [Input('cohort-dropdown', 'value')])\n",
    "def update_graph3(cohort):\n",
    "    df_cohort = df.loc[df.cohort == cohort]\n",
    "    fig = px.bar(\n",
    "        df_cohort,\n",
    "        x='date',\n",
    "        y='CPClick',\n",
    "        color='cohort',\n",
    "        title=' Cost per click  each Cohort'\n",
    "    )\n",
    "    return fig\n",
    "\n",
    "\n",
    "# run app\n",
    "if __name__ == '__main__':\n",
    "    app.run_server(debug=True)\n",
    "\n"
   ]
  }
 ],
 "metadata": {
  "kernelspec": {
   "display_name": "prophet",
   "language": "python",
   "name": "python3"
  },
  "language_info": {
   "codemirror_mode": {
    "name": "ipython",
    "version": 3
   },
   "file_extension": ".py",
   "mimetype": "text/x-python",
   "name": "python",
   "nbconvert_exporter": "python",
   "pygments_lexer": "ipython3",
   "version": "3.10.9"
  },
  "orig_nbformat": 4,
  "vscode": {
   "interpreter": {
    "hash": "ee994719cd4369d7055db9de11ff4e33068b7eece457f737d52aa9d08e9898f8"
   }
  }
 },
 "nbformat": 4,
 "nbformat_minor": 2
}
